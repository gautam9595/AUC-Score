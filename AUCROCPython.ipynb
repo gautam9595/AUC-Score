{
 "cells": [
  {
   "cell_type": "code",
   "execution_count": 17,
   "metadata": {},
   "outputs": [],
   "source": [
    "#Importing the libraries\n",
    "import pandas as pd\n",
    "import numpy as np\n",
    "import matplotlib.pyplot as plt\n",
    "%matplotlib inline\n",
    "from numpy import trapz"
   ]
  },
  {
   "cell_type": "code",
   "execution_count": 19,
   "metadata": {},
   "outputs": [
    {
     "data": {
      "text/html": [
       "<div>\n",
       "<style scoped>\n",
       "    .dataframe tbody tr th:only-of-type {\n",
       "        vertical-align: middle;\n",
       "    }\n",
       "\n",
       "    .dataframe tbody tr th {\n",
       "        vertical-align: top;\n",
       "    }\n",
       "\n",
       "    .dataframe thead th {\n",
       "        text-align: right;\n",
       "    }\n",
       "</style>\n",
       "<table border=\"1\" class=\"dataframe\">\n",
       "  <thead>\n",
       "    <tr style=\"text-align: right;\">\n",
       "      <th></th>\n",
       "      <th>index</th>\n",
       "      <th>class</th>\n",
       "      <th>predicted_prob</th>\n",
       "    </tr>\n",
       "  </thead>\n",
       "  <tbody>\n",
       "    <tr>\n",
       "      <th>0</th>\n",
       "      <td>1</td>\n",
       "      <td>0</td>\n",
       "      <td>0.592837</td>\n",
       "    </tr>\n",
       "    <tr>\n",
       "      <th>1</th>\n",
       "      <td>2</td>\n",
       "      <td>1</td>\n",
       "      <td>0.624829</td>\n",
       "    </tr>\n",
       "    <tr>\n",
       "      <th>2</th>\n",
       "      <td>3</td>\n",
       "      <td>0</td>\n",
       "      <td>0.073848</td>\n",
       "    </tr>\n",
       "    <tr>\n",
       "      <th>3</th>\n",
       "      <td>4</td>\n",
       "      <td>1</td>\n",
       "      <td>0.544891</td>\n",
       "    </tr>\n",
       "    <tr>\n",
       "      <th>4</th>\n",
       "      <td>5</td>\n",
       "      <td>0</td>\n",
       "      <td>0.015118</td>\n",
       "    </tr>\n",
       "  </tbody>\n",
       "</table>\n",
       "</div>"
      ],
      "text/plain": [
       "   index  class  predicted_prob\n",
       "0      1      0        0.592837\n",
       "1      2      1        0.624829\n",
       "2      3      0        0.073848\n",
       "3      4      1        0.544891\n",
       "4      5      0        0.015118"
      ]
     },
     "execution_count": 19,
     "metadata": {},
     "output_type": "execute_result"
    }
   ],
   "source": [
    "df = pd.DataFrame([[1,0, 0.592837], [2,1, 0.624829], [3, 0, 0.073848], [4, 1, 0.544891], [5, 0, 0.015118]], columns=[\"index\", \"class\", \"predicted_prob\"])\n",
    "df.head()"
   ]
  },
  {
   "cell_type": "code",
   "execution_count": 20,
   "metadata": {},
   "outputs": [],
   "source": [
    "def perf_metrics(y_actual, y_hat,threshold):\n",
    "    tp = 0\n",
    "    fp = 0\n",
    "    tn = 0\n",
    "    fn = 0\n",
    "    \n",
    "    for i in range(len(y_hat)): \n",
    "        if(y_hat[i] >= threshold):\n",
    "            if(y_actual[i] == 1):\n",
    "                tp += 1\n",
    "            else:\n",
    "                fp += 1\n",
    "        elif(y_hat[i] < threshold):\n",
    "            if(y_actual[i] == 0):\n",
    "                tn += 1\n",
    "            else:\n",
    "                fn += 1\n",
    "    \n",
    "    #We find the True positive rate and False positive rate based on the threshold\n",
    "            \n",
    "    tpr = tp/(tp+fn)\n",
    "    fpr = fp/(tn+fp)\n",
    "\n",
    "    return [fpr,tpr]"
   ]
  },
  {
   "cell_type": "code",
   "execution_count": 21,
   "metadata": {},
   "outputs": [
    {
     "data": {
      "text/plain": [
       "(0.3333333333333333, 1.0)"
      ]
     },
     "execution_count": 21,
     "metadata": {},
     "output_type": "execute_result"
    }
   ],
   "source": [
    "fpr,tpr =perf_metrics(df['class'],df['predicted_prob'],0.5)\n",
    "fpr, tpr"
   ]
  },
  {
   "cell_type": "code",
   "execution_count": 10,
   "metadata": {},
   "outputs": [
    {
     "name": "stdout",
     "output_type": "stream",
     "text": [
      "Sensitivity: 1.0 , Specificity: 0.67\n"
     ]
    }
   ],
   "source": [
    "#Sensitivity is When it's actually yes, how often does it predict yes? Same as TPR\n",
    "#Specificity is  When it's actually no, how often does it predict no? Same as (1-FPR)\n",
    "print('Sensitivity: {} ,'.format(round(tpr,2)),'Specificity: {}'.format(round(1-fpr,2)))"
   ]
  },
  {
   "cell_type": "code",
   "execution_count": 11,
   "metadata": {},
   "outputs": [],
   "source": [
    "#Now we calculate FPR and TPR for different thresholds and get AUC and ROC\n",
    "thresholds = [0,.05,.1,.15,.2,.25,.3,.35,.4,.45,.5,.55,.6,.65,.7,.75,.8,.85,.9,.95,1]\n",
    "\n",
    "roc_points = []\n",
    "for threshold in thresholds:\n",
    "    rates = perf_metrics(df['class'], df['predicted_prob'], threshold)\n",
    "    roc_points.append(rates)"
   ]
  },
  {
   "cell_type": "code",
   "execution_count": 12,
   "metadata": {},
   "outputs": [],
   "source": [
    "fpr_array = []\n",
    "tpr_array = []\n",
    "for i in range(len(roc_points)-1):\n",
    "    point1 = roc_points[i];\n",
    "    point2 = roc_points[i+1]\n",
    "    tpr_array.append([point1[0], point2[0]])\n",
    "    fpr_array.append([point1[1], point2[1]])"
   ]
  },
  {
   "cell_type": "code",
   "execution_count": 22,
   "metadata": {},
   "outputs": [
    {
     "name": "stdout",
     "output_type": "stream",
     "text": [
      "Area under curve=0.8333333333333334\n"
     ]
    }
   ],
   "source": [
    "#We use Trapezoidal rule to calculate the area under the curve and approximating the intergral  \n",
    "auc = sum(np.trapz(tpr_array,fpr_array))+1\n",
    "print('Area under curve={}'.format(auc))"
   ]
  },
  {
   "cell_type": "code",
   "execution_count": 23,
   "metadata": {},
   "outputs": [
    {
     "data": {
      "image/png": "[encoded data removed]",
      "text/plain": [
       "<Figure size 432x288 with 1 Axes>"
      ]
     },
     "metadata": {
      "needs_background": "light"
     },
     "output_type": "display_data"
    }
   ],
   "source": [
    "plt.plot(tpr_array,fpr_array, 'r', lw=2)\n",
    "plt.plot([0, 1], [0, 1], 'k-', lw=2)\n",
    "plt.xlabel('False Positive Rate')\n",
    "plt.ylabel('True Positive Rate')\n",
    "plt.title('AUC={}'.format(round(auc,3)))\n",
    "plt.show()"
   ]
  },
  {
   "cell_type": "code",
   "execution_count": 10,
   "metadata": {},
   "outputs": [],
   "source": [
    "#Area Under the Curve is the percentage of this box that is under this curve.\n",
    "#This classifier has an AUC of around 0.88 which indicates it is a decent classifier. "
   ]
  },
  {
   "cell_type": "code",
   "execution_count": 1,
   "metadata": {},
   "outputs": [],
   "source": [
    "from scipy.io import loadmat\n",
    "\n",
    "actual=loadmat('actual.mat');\n",
    "predicted=loadmat('predicted.mat');\n",
    "\n",
    "labels=actual['target'][:,0];\n",
    "predictions=predicted['neuralOut'][:,0]; "
   ]
  },
  {
   "cell_type": "code",
   "execution_count": 2,
   "metadata": {},
   "outputs": [
    {
     "data": {
      "text/plain": [
       "array([0, 0, 0, 0, 0, 0, 0, 0, 0, 0, 0, 0, 0, 0, 0, 0, 0, 0, 0, 0, 0, 0,\n",
       "       0, 0, 0, 0, 0, 0, 0, 0, 0, 0, 0, 0, 0, 0, 0, 0, 0, 0, 0, 0, 0, 0,\n",
       "       0, 0, 0, 0, 0, 0, 1, 1, 1, 1, 1, 1, 1, 1, 1, 1, 1, 1, 1, 1, 1, 1,\n",
       "       1, 1, 1, 1, 1, 1, 1, 1, 1, 1, 1, 1, 1, 1, 1, 1, 1, 1, 1, 1, 1, 1,\n",
       "       1, 1, 1, 1, 1, 1, 1, 1, 1, 1, 1, 1], dtype=uint8)"
      ]
     },
     "execution_count": 2,
     "metadata": {},
     "output_type": "execute_result"
    }
   ],
   "source": [
    "labels"
   ]
  },
  {
   "cell_type": "code",
   "execution_count": 2,
   "metadata": {},
   "outputs": [
    {
     "data": {
      "text/plain": [
       "array([0.82714215, 0.60445959, 0.79163409, 0.16080518, 0.61122292,\n",
       "       0.25550873, 0.56815077, 0.0599057 , 0.66444341, 0.11293577,\n",
       "       0.06152372, 0.35250697, 0.32267018, 0.43339115, 0.22807443,\n",
       "       0.72198484, 0.23527699, 0.28502453, 0.41070479, 0.20083562,\n",
       "       0.37119218, 0.42348227, 0.4876482 , 0.42348227, 0.57509852,\n",
       "       0.67340477, 0.73558926, 0.71378991, 0.38739725, 0.24042033,\n",
       "       0.16634116, 0.16634116, 0.28502453, 0.36837418, 0.17375785,\n",
       "       0.43636291, 0.72198484, 0.46745878, 0.23527699, 0.17202866,\n",
       "       0.17786914, 0.4433536 , 0.27685038, 0.06891755, 0.21414011,\n",
       "       0.27120595, 0.26328217, 0.48056205, 0.0884856 , 0.25550873,\n",
       "       0.56815077, 0.28502453, 0.84221642, 0.52808205, 0.63027285,\n",
       "       0.93251628, 0.06222562, 0.8823445 , 0.67073977, 0.89166341,\n",
       "       0.64892548, 0.55521198, 0.75102755, 0.23310831, 0.29334213,\n",
       "       0.60445959, 0.63027285, 0.9585115 , 0.93428007, 0.32267018,\n",
       "       0.79823018, 0.22102863, 0.9390781 , 0.50787801, 0.73793446,\n",
       "       0.87500786, 0.47047017, 0.4433536 , 0.56518147, 0.8658845 ,\n",
       "       0.89702461, 0.9712638 , 0.56518147, 0.51798738, 0.4038554 ,\n",
       "       0.943547  , 0.57805065, 0.59474492, 0.39704329, 0.79163409,\n",
       "       0.72198484, 0.79163409, 0.28502453, 0.76585136, 0.73793446,\n",
       "       0.71378991, 0.4876482 , 0.63027285, 0.5310945 , 0.35250697])"
      ]
     },
     "execution_count": 2,
     "metadata": {},
     "output_type": "execute_result"
    }
   ],
   "source": [
    "predictions"
   ]
  },
  {
   "cell_type": "code",
   "execution_count": 4,
   "metadata": {},
   "outputs": [
    {
     "name": "stdout",
     "output_type": "stream",
     "text": [
      "AUC: 0.792\n"
     ]
    }
   ],
   "source": [
    "from sklearn.metrics import roc_auc_score\n",
    "auc = roc_auc_score(labels, predictions)\n",
    "print('AUC: %.3f' % auc)"
   ]
  },
  {
   "cell_type": "code",
   "execution_count": null,
   "metadata": {},
   "outputs": [],
   "source": []
  }
 ],
 "metadata": {
  "kernelspec": {
   "display_name": "Python 3",
   "language": "python",
   "name": "python3"
  },
  "language_info": {
   "codemirror_mode": {
    "name": "ipython",
    "version": 3
   },
   "file_extension": ".py",
   "mimetype": "text/x-python",
   "name": "python",
   "nbconvert_exporter": "python",
   "pygments_lexer": "ipython3",
   "version": "3.8.10"
  }
 },
 "nbformat": 4,
 "nbformat_minor": 2
}
